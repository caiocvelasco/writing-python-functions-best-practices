{
 "cells": [
  {
   "cell_type": "markdown",
   "metadata": {},
   "source": [
    "# Writing Functions in Python"
   ]
  },
  {
   "cell_type": "markdown",
   "metadata": {},
   "source": [
    "## Learning points:\n",
    "\n",
    "* Documentation\n",
    "    * Docstrings\n",
    "* Principles \n",
    "    * DRY (Don't Repeat Yourself)\n",
    "        * E.g.: Decorators (add common behavior to multiple functions instead of replicating it in the body of each function)\n",
    "    * Do One Thing\n",
    "    * Pass by Assignment\n",
    "        * Example: Lists (Mutable) vs Integers (Immutable)\n",
    "        * Example: Mutable Default Argument Newbie Mistake\n",
    "* Context Manager\n",
    "    * It can be defined in 2 ways\n",
    "        * Function (a function-based Context Manager)\n",
    "        * Class (a class-based Context Manager)\n",
    "* Decorators\n",
    "    * Functions as objects\n",
    "        * Functions as variables\n",
    "        * Function as items of a list or a dictionary\n",
    "        * Function as arguments of another function\n",
    "        * Nested Functions\n",
    "        * Function as a returned value of a function\n",
    "    * Scope\n",
    "        * Which variables can be accessed at different points in the code\n",
    "            * global, local, nonlocal\n",
    "        * Variable names inside and outside the function\n",
    "            * local scope first, nonlocal-but-nested next, global next, builtin next (e.g.: print() function)\n",
    "    * Closures\n",
    "        * A tuple of variables that are no longer in scope (but a function still needs it to run its code)\n",
    "            * Even if you delete a global variable, the previous value that was stored in the function's closure remains in the tuple that is created behind the scenes\n",
    "    * Summary of Decorators\n",
    "        * A decorator is a function (e.g., my_decorator_function()) that wraps another function with additional behavior.\n",
    "        * It contains a nested function (often called wrapper) that modifies or enhances the behavior of the decorated function.\n",
    "        * You apply a decorator to another function using the @ symbol (e.g., @my_decorator_function), which automatically replaces the original function with the decorated version.\n",
    "        * This process is similar to composite functions in mathematics, where the decorator acts as an outer function that transforms or modifies the inner function’s behavior.\n",
    "        * If you need to access the original, undecorated function, you can use the __wrapped__ attribute (e.g., result = my_function.__wrapped__(*args, **kwargs)).\n",
    "            * But this only works if `functools.wraps` was used in the decorator.  "
   ]
  },
  {
   "cell_type": "markdown",
   "metadata": {},
   "source": [
    "## Documentation (Docstring)\n",
    "\n",
    "```\n",
    "def function_name(arguments):\n",
    "    \"\"\"\n",
    "    Description of what the function does.\n",
    "    Description of the arguments, if any.\n",
    "    Description of the return value(s), if any.\n",
    "    Description of errors raised, if any.\n",
    "    Optional extra notes or examples of usage.\n",
    "    \"\"\"\n",
    "```"
   ]
  },
  {
   "cell_type": "code",
   "execution_count": 1,
   "metadata": {},
   "outputs": [
    {
     "name": "stdout",
     "output_type": "stream",
     "text": [
      "\n",
      "    Description of what the function does.\n",
      "\n",
      "    Args:    \n",
      "        arg_1 (str): Description of arg_1 that can break onto the next line\n",
      "        if needed.\n",
      "        arg_2 (int, optional): Write optional when an argument has a default\n",
      "        value.  \n",
      "\n",
      "    Returns:    \n",
      "        int: Optional description of the return value\n",
      "        Extra lines are not indented.\n",
      "\n",
      "    Raises:\n",
      "        ValueError: Include any error types that the function intentionally\n",
      "        raises.\n",
      "        \n",
      "    Notes:\n",
      "        See XYZ document for more info.\n",
      "    \n"
     ]
    }
   ],
   "source": [
    "def my_function(arg_1, arg_2=10):\n",
    "    \"\"\"\n",
    "    Description of what the function does.\n",
    "\n",
    "    Args:    \n",
    "        arg_1 (str): Description of arg_1 that can break onto the next line\n",
    "        if needed.\n",
    "        arg_2 (int, optional): Write optional when an argument has a default\n",
    "        value.  \n",
    "\n",
    "    Returns:    \n",
    "        int: Optional description of the return value\n",
    "        Extra lines are not indented.\n",
    "\n",
    "    Raises:\n",
    "        ValueError: Include any error types that the function intentionally\n",
    "        raises.\n",
    "        \n",
    "    Notes:\n",
    "        See XYZ document for more info.\n",
    "    \"\"\"\n",
    "\n",
    "# To access the docstring, use the __doc__ attribute of the function\n",
    "print(my_function.__doc__)\n",
    "\n"
   ]
  },
  {
   "cell_type": "code",
   "execution_count": 2,
   "metadata": {},
   "outputs": [
    {
     "name": "stdout",
     "output_type": "stream",
     "text": [
      "Description of what the function does.\n",
      "\n",
      "Args:    \n",
      "    arg_1 (str): Description of arg_1 that can break onto the next line\n",
      "    if needed.\n",
      "    arg_2 (int, optional): Write optional when an argument has a default\n",
      "    value.  \n",
      "\n",
      "Returns:    \n",
      "    int: Optional description of the return value\n",
      "    Extra lines are not indented.\n",
      "\n",
      "Raises:\n",
      "    ValueError: Include any error types that the function intentionally\n",
      "    raises.\n",
      "    \n",
      "Notes:\n",
      "    See XYZ document for more info.\n"
     ]
    }
   ],
   "source": [
    "# We can also use the inspect module to get the docstring\n",
    "import inspect\n",
    "print(inspect.getdoc(my_function))"
   ]
  },
  {
   "cell_type": "markdown",
   "metadata": {},
   "source": [
    "## Principles"
   ]
  },
  {
   "cell_type": "markdown",
   "metadata": {},
   "source": [
    "### Pass by Assignment and The \"Mutable Default Argument\" Newbie Mistake\n",
    "\n",
    "In Python, everything is an `object`, and variables are just references (`pointers`) to these objects.\n",
    "\n",
    "When you pass a variable to a function, Python assigns the reference to the parameter — this is called `Pass by Assignment`.\n",
    "\n",
    "* Difference Between `Objects` and `Variables` in Python\n",
    "    * `Objects`   → The actual **data stored in memory**.\n",
    "        * Each object has a memory address (location)\n",
    "        * Objects are created when assigned or instantiated (x = 10, my_list = [])\n",
    "    * `Variables` → References (**pointers**) to objects in memory.\n",
    "        * A variable is just a name that points to an object in memory.\n",
    "        * **Variables don’t store the object** itself, **they store a reference** (memory address) to the object\n",
    "\n",
    "It is easier to understand if we focus on `Immutable vs. Mutable` objects."
   ]
  },
  {
   "cell_type": "markdown",
   "metadata": {},
   "source": [
    "#### Example 1: Immutable Object (No Change Outside the Function)\n",
    "\n",
    "* `int` is immutable, so `x = x + 1` creates a new object, leaving `num` unchanged"
   ]
  },
  {
   "cell_type": "code",
   "execution_count": 3,
   "metadata": {},
   "outputs": [
    {
     "name": "stdout",
     "output_type": "stream",
     "text": [
      "Inside function: 11\n",
      "Outside function: 10\n"
     ]
    }
   ],
   "source": [
    "def modify_number(x):\n",
    "    x = x + 1  # Creates a NEW object\n",
    "    print(\"Inside function:\", x)\n",
    "\n",
    "num = 10\n",
    "modify_number(num)\n",
    "print(\"Outside function:\", num)  # Still 10 (unchanged)"
   ]
  },
  {
   "cell_type": "markdown",
   "metadata": {},
   "source": [
    "Here, what happened is the following:\n",
    "* `num = 10`\n",
    "    * `num` points to an `integer` object `10` in memory, let's say memory address in this case is `A100`\n",
    "* `modify_number(num)`\n",
    "    * The function receives **a copy** of the reference (**not the value**)\n",
    "    * `x` is created inside the function and x also points to `10` at `A100`\n",
    "* So far, both `num` and `x` point to `10` at `A100`\n",
    "* `x = x + 1`\n",
    "    * now, a new object is created. It is a new integer `11` at a different memory address (`A200`)\n",
    "* So far, `x` now points to `11` (`A200`), but `num` still points to `10` (`A100`)\n",
    "* After function execution is done:\n",
    "    * x (inside the function) disappears\n",
    "    * `num` is unchanged, still pointing to `10` (`A100`)\n",
    "\n",
    "Flow:\n",
    "```\n",
    "num --> [10] (A100)   # object 10 is created and num points to it at memory A100\n",
    "x   --> [10] (A100)   # x is created inside the function and initially points to the same integer 10 at A100\n",
    "x   --> [11] (A200)   # New integer 11 is created at a new location A200, x now points to it\n",
    "num --> [10] (A100)   # num is unchanged, still pointing to A100\n",
    "x   (deleted)         # x goes out of scope (no longer exists)\n",
    "```"
   ]
  },
  {
   "cell_type": "markdown",
   "metadata": {},
   "source": [
    "#### Example 2: Mutable Object  (Changes Affect the Original)\n",
    "\n",
    "* `list` is mutable, so changes inside the function affect the original object"
   ]
  },
  {
   "cell_type": "code",
   "execution_count": 4,
   "metadata": {},
   "outputs": [
    {
     "name": "stdout",
     "output_type": "stream",
     "text": [
      "Inside function: [1, 2, 3, 4]\n",
      "Outside function: [1, 2, 3, 4]\n"
     ]
    }
   ],
   "source": [
    "def modify_list(lst):\n",
    "    lst.append(4)  # Modifies the existing object\n",
    "    print(\"Inside function:\", lst)\n",
    "\n",
    "my_list = [1, 2, 3]\n",
    "modify_list(my_list)\n",
    "print(\"Outside function:\", my_list)  # Now [1, 2, 3, 4] (changed!)"
   ]
  },
  {
   "cell_type": "markdown",
   "metadata": {},
   "source": [
    "Here, what happened is the following:\n",
    "* `my_list = [1, 2, 3]`\n",
    "    * Python creates a `list` object `[1, 2, 3]` in memory at `A300`\n",
    "* `modify_list(my_list)`\n",
    "    * The function receives the `reference` to the same list (`A300`)\n",
    "    * `lst` and `my_list` both point to the same memory address (`A300`)\n",
    "* So far, both `lst` and `my_list` point to `[1, 2, 3]` at `A300`\n",
    "* `lst.append(4)`\n",
    "    * now, a new object is **NOT** created. Modifies the existing list at `A300`\n",
    "* So far, both `lst` and `my_list` **STILL** point to `A300` but now the list is `[1, 2, 3, 4]` \n",
    "* After function execution is done:\n",
    "    * lst **DOES NOT** disappear\n",
    "    * `my_list` still points to `A300`, but now it contains `[1, 2, 3, 4]`\n",
    "\n",
    "Flow:\n",
    "```\n",
    "my_list              --> [1, 2, 3]    (A300)  # List [1,2,3] is created at A300 and my_list points to it\n",
    "modify_list(my_list) --> [1, 2, 3]    (A300)  # Function receives reference A300 to list [1, 2, 3] from the argument mylist\n",
    "mylist=lst           --> [1, 2, 3]    (A300)  # lst is created and points to the same object (mylist) A300\n",
    "lst.append(4)        --> [1, 2, 3, 4] (A300)  # The mutable object is modified and lst still points to A300\n",
    "my_list              --> [1, 2, 3, 4] (A300)  # mylist still points to A300, which was modified via lst, so mylist was modified\n",
    "```"
   ]
  },
  {
   "cell_type": "markdown",
   "metadata": {},
   "source": [
    "#### Example - The Mutable Default Argument Newbie Mistake - Mutable Object as Argument\n",
    "\n",
    "* If you want a Mutable object as a default argument, you need to Default it to None and initiate it inside the function."
   ]
  },
  {
   "cell_type": "code",
   "execution_count": 5,
   "metadata": {},
   "outputs": [
    {
     "name": "stdout",
     "output_type": "stream",
     "text": [
      "[1]\n",
      "[1, 1]\n",
      "[1]\n",
      "[1]\n"
     ]
    }
   ],
   "source": [
    "def mistake(var=[]):  \n",
    "    var.append(1)\n",
    "    return var\n",
    "\n",
    "# Call the function\n",
    "print(mistake())\n",
    "# Call it again\n",
    "print(mistake())\n",
    "\n",
    "# The default value is shared between calls\n",
    "def no_mistake(var=None):\n",
    "    if var is None:\n",
    "        var = []  \n",
    "    var.append(1)\n",
    "    return var\n",
    "\n",
    "print(no_mistake())\n",
    "print(no_mistake())\n"
   ]
  },
  {
   "cell_type": "code",
   "execution_count": 6,
   "metadata": {},
   "outputs": [
    {
     "data": {
      "text/html": [
       "<div>\n",
       "<style scoped>\n",
       "    .dataframe tbody tr th:only-of-type {\n",
       "        vertical-align: middle;\n",
       "    }\n",
       "\n",
       "    .dataframe tbody tr th {\n",
       "        vertical-align: top;\n",
       "    }\n",
       "\n",
       "    .dataframe thead th {\n",
       "        text-align: right;\n",
       "    }\n",
       "</style>\n",
       "<table border=\"1\" class=\"dataframe\">\n",
       "  <thead>\n",
       "    <tr style=\"text-align: right;\">\n",
       "      <th></th>\n",
       "      <th>col_0</th>\n",
       "    </tr>\n",
       "  </thead>\n",
       "  <tbody>\n",
       "    <tr>\n",
       "      <th>0</th>\n",
       "      <td>1</td>\n",
       "    </tr>\n",
       "    <tr>\n",
       "      <th>1</th>\n",
       "      <td>2</td>\n",
       "    </tr>\n",
       "    <tr>\n",
       "      <th>2</th>\n",
       "      <td>3</td>\n",
       "    </tr>\n",
       "    <tr>\n",
       "      <th>3</th>\n",
       "      <td>4</td>\n",
       "    </tr>\n",
       "    <tr>\n",
       "      <th>4</th>\n",
       "      <td>5</td>\n",
       "    </tr>\n",
       "  </tbody>\n",
       "</table>\n",
       "</div>"
      ],
      "text/plain": [
       "   col_0\n",
       "0      1\n",
       "1      2\n",
       "2      3\n",
       "3      4\n",
       "4      5"
      ]
     },
     "execution_count": 6,
     "metadata": {},
     "output_type": "execute_result"
    }
   ],
   "source": [
    "# Example: Function that takes a mutable object (list of values) and adds it to dataframe as a new column\n",
    "\n",
    "import pandas as pd\n",
    "data = [1, 2, 3, 4, 5]\n",
    "\n",
    "def add_column(values, df: None):\n",
    "    if df is None:\n",
    "        df = pd.DataFrame()\n",
    "    df['col_{}'.format(len(df.columns))] = values\n",
    "    return df\n",
    "\n",
    "add_column(data, df=None)"
   ]
  },
  {
   "cell_type": "markdown",
   "metadata": {},
   "source": [
    "## Context Manager = Special Type of Function\n",
    "\n",
    "* What is a Context Manager?\n",
    "    * It is a special type of **function** that:\n",
    "        1) Sets up a context for your code to run in\n",
    "        2) Runs the code\n",
    "        3) Removes the context\n",
    "    * The `with` statement is a **Compound Statement**, just like `if` or `for` loops (it runs the **INDENTED** code below)\n",
    "    * How to return a value?\n",
    "        * You can assign the returned value by using the variable name in the `as <variable_name>` part\n",
    "\n",
    "* There are 2 types of use for Context Managers, i.e., Context Managers can be defined in 2 ways\n",
    "    * Function (a function-based Context Manager)\n",
    "        * In this case, tecnically, a `generator` that yields a single value\n",
    "        * This ability of \"yield\" control and know that it will finish later is why Context Managers are useful\n",
    "    * Class (a class-based Context Manager)"
   ]
  },
  {
   "cell_type": "markdown",
   "metadata": {},
   "source": [
    "### Context Manager as a Function\n",
    "\n",
    "Mathematically, it would be something like:\n",
    "```\n",
    "with f(x) as y:\n",
    " ...\n",
    " ```\n",
    "Above, f(x) is the context manager function/object, and y is the return value.\n",
    "\n",
    "In python:\n",
    "```\n",
    "with <context-manager, aka any function!>(<args>) as <variable-name>: #\n",
    "  # Code inside the context\n",
    "\n",
    "# This code runs after the context is removed\n",
    "```"
   ]
  },
  {
   "cell_type": "code",
   "execution_count": 7,
   "metadata": {},
   "outputs": [],
   "source": [
    "import contextlib"
   ]
  },
  {
   "cell_type": "code",
   "execution_count": 8,
   "metadata": {},
   "outputs": [
    {
     "name": "stdout",
     "output_type": "stream",
     "text": [
      "The file has this text:\n",
      " It always seems impossible until it's done. - Nelson Mandela\n",
      "The file is 60 characters long\n"
     ]
    }
   ],
   "source": [
    "with open(\"C:/Users/caiov/OneDrive - UCLA IT Services/Documentos/DataScience/Repositories/writing-python-functions-best-practices/writing_python_functions_project/my_text.txt\") as my_text: # Sets up a context manager (as a Compound Statement) by opening the file and assigns its value in the my_file variable\n",
    "    text = my_text.read()\n",
    "    length = len(text)\n",
    "\n",
    "print('The file has this text:\\n', text)\n",
    "print('The file is {} characters long'.format(length))"
   ]
  },
  {
   "cell_type": "markdown",
   "metadata": {},
   "source": [
    "### Writing Context Managers for other people to use\n",
    "* First, you use the `decorator`: @contextlib.contextmanager\n",
    "* Then, you define the function.\n",
    "    * yield <value>: you will return a value, but at some point in the future\n",
    "    * This value can be assined to variable in the `with` compound statement by adding `as <variable-name>`\n",
    "\n",
    "```\n",
    "@contextlib.contextmanager\n",
    "def my_context():\n",
    "    # Add any set up code you need\n",
    "    yield <value>\n",
    "    # Add any teardown code you need\n",
    "\n",
    "with my_context_manager() as my_variable:\n",
    "    print('the variable from yield is {}'.format(my_variable))\n",
    "```     "
   ]
  },
  {
   "cell_type": "code",
   "execution_count": 9,
   "metadata": {},
   "outputs": [
    {
     "name": "stdout",
     "output_type": "stream",
     "text": [
      "the variable from yield is 10\n",
      "teardown code\n"
     ]
    }
   ],
   "source": [
    "# First Example\n",
    "@contextlib.contextmanager  # This decorator allows defining a context manager using a generator function instead of a class\n",
    "def my_context_manager():\n",
    "                            # The yield statement defines the __enter__ and __exit__ methods\n",
    "                            # The function pauses at yield and returns 10 to my_variable\n",
    "    yield 10                \n",
    "                            # After the with block below finishes printing, the function resumes after yield and prints the teardown code\n",
    "    print('teardown code')\n",
    "\n",
    "with my_context_manager() as my_variable:   # my_variable receives the value 10 from yield\n",
    "    print('the variable from yield is {}'.format(my_variable))"
   ]
  },
  {
   "cell_type": "code",
   "execution_count": 10,
   "metadata": {},
   "outputs": [
    {
     "name": "stdout",
     "output_type": "stream",
     "text": [
      "This is the old/current dir:  c:\\Users\\caiov\\OneDrive - UCLA IT Services\\Documentos\\DataScience\\Repositories\\writing-python-functions-best-practices\\writing_python_functions_project\n",
      "This is the new dir, from with argument:  C:/Users/caiov/OneDrive - UCLA IT Services/Documentos/DataScience/Repositories/writing-python-functions-best-practices/writing_python_functions_project/\n",
      "['my_text.txt', 'writing_python_functions_project.ipynb']\n"
     ]
    }
   ],
   "source": [
    "# Second Example - Yield 'None' to the variable\n",
    "import os\n",
    "\n",
    "@contextlib.contextmanager\n",
    "def in_dir(path):\n",
    "    # save current working directory  \n",
    "    old_dir = os.getcwd()\n",
    "    print(\"This is the old/current dir: \", old_dir)\n",
    "    # switch to new working directory  \n",
    "    os.chdir(path)\n",
    "    print(\"This is the new dir, from with argument: \", path)\n",
    "    yield\n",
    "    # change back to previous working directory  \n",
    "    os.chdir(old_dir)\n",
    "\n",
    "with in_dir(\"C:/Users/caiov/OneDrive - UCLA IT Services/Documentos/DataScience/Repositories/writing-python-functions-best-practices/writing_python_functions_project/\"):  \n",
    "    project_files = os.listdir()\n",
    "    print(project_files)\n"
   ]
  },
  {
   "cell_type": "code",
   "execution_count": 11,
   "metadata": {},
   "outputs": [],
   "source": [
    "# Third Example - Accessing a Database\n",
    "\n",
    "# @contextlib.contextmanager\n",
    "\n",
    "# def database(url): \n",
    "#     # set up database connection\n",
    "#     db = postgres.connect(url)\n",
    "#     yield db\n",
    "#     # tear down database connection \n",
    "#     db.disconnect()url = 'http://datacamp.com/data'\n",
    "    \n",
    "# with database(url) as my_db:\n",
    "#     course_list = my_db.execute(\n",
    "#         'SELECT * FROM courses'\n",
    "#     )"
   ]
  },
  {
   "cell_type": "markdown",
   "metadata": {},
   "source": [
    "### Nested Context Managers, Handling Error (Try-Except-Finally)\n",
    "\n",
    "* Example of 2 nested context managers\n",
    "    1) Context Manager for stock price connection and to get the text from the connection\n",
    "    2) Context Manager to write in the opened the content from the connection to new text file"
   ]
  },
  {
   "cell_type": "code",
   "execution_count": 12,
   "metadata": {},
   "outputs": [],
   "source": [
    "# Use the \"stock('NVDA')\" context manager\n",
    "# and assign the result to the variable \"nvda\"\n",
    "# with stock('NVDA') as nvda:\n",
    "#   # Open \"NVDA.txt\" for writing as f_out\n",
    "#   with open('NVDA.txt', 'w') as f_out:\n",
    "#     for _ in range(10):\n",
    "#       value = nvda.price()\n",
    "#       print('Logging ${:.2f} for NVDA'.format(value))\n",
    "#       f_out.write('{:.2f}\\n'.format(value))"
   ]
  },
  {
   "cell_type": "markdown",
   "metadata": {},
   "source": [
    "## Decorators"
   ]
  },
  {
   "cell_type": "markdown",
   "metadata": {},
   "source": [
    "* Functions as objects\n",
    "    * Functions as variables\n",
    "    * Function as items of a list or a dictionary\n",
    "    * Function as arguments of another function\n",
    "    * Nested Functions\n",
    "    * Function as a returned value of a function\n",
    "* Scope\n",
    "    * Which variables can be accessed at different points in the code\n",
    "    * Variable names inside and outside the function\n",
    "* Closures"
   ]
  },
  {
   "cell_type": "markdown",
   "metadata": {},
   "source": [
    "### Functions as objects\n",
    "\n",
    "* Function as variables\n",
    "    * In this case, you **do not** include parenthesis after the function name\n",
    "        * If you call with parenthesis, it shows the value that the function returns\n",
    "        * If you call without parenthesis, it shows a **function object**"
   ]
  },
  {
   "cell_type": "code",
   "execution_count": 13,
   "metadata": {},
   "outputs": [
    {
     "name": "stdout",
     "output_type": "stream",
     "text": [
      "10\n",
      "10\n",
      "<function my_function at 0x000001DB32139260>\n"
     ]
    }
   ],
   "source": [
    "def my_function():\n",
    "    return 10\n",
    "\n",
    "x = my_function()\n",
    "\n",
    "print(my_function())  # Here we are calling the function by using the parenthesis. It will return the value.\n",
    "print(x)\n",
    "\n",
    "print(my_function) # Here we are just printing the function object. It will return the memory address of the function object.\n",
    "\n"
   ]
  },
  {
   "cell_type": "markdown",
   "metadata": {},
   "source": [
    "* Function as items of a list or a dictionary"
   ]
  },
  {
   "cell_type": "code",
   "execution_count": 14,
   "metadata": {},
   "outputs": [
    {
     "name": "stdout",
     "output_type": "stream",
     "text": [
      "<function my_function at 0x000001DB32139300>\n",
      "<built-in function print>\n",
      "Hello\n",
      "Hello\n"
     ]
    }
   ],
   "source": [
    "def my_function():\n",
    "    return 10\n",
    "\n",
    "list_of_functions = [my_function, print]\n",
    "print(list_of_functions[0]) # Returns the my_function object\n",
    "print(list_of_functions[1]) # Returns the print function object\n",
    "list_of_functions[1](\"Hello\") # Calls the print function with the argument \"Hello\"\n",
    "\n",
    "dict_of_functions = {'f_1': my_function,'f2': print}\n",
    "dict_of_functions['f2']('Hello') # Calls the print function with the argument \"Hello\"\n"
   ]
  },
  {
   "cell_type": "markdown",
   "metadata": {},
   "source": [
    "* Function as arguments of another function\n",
    "* Nested Functions = Inner Functions = Child Functions"
   ]
  },
  {
   "cell_type": "code",
   "execution_count": 15,
   "metadata": {},
   "outputs": [
    {
     "data": {
      "text/plain": [
       "10"
      ]
     },
     "execution_count": 15,
     "metadata": {},
     "output_type": "execute_result"
    }
   ],
   "source": [
    "# Function as Arguments\n",
    "def my_function():\n",
    "    return 10\n",
    "\n",
    "def call_function(func):\n",
    "    return func() # Calls the function that is passed as an argument (not the parenthesis here)\n",
    "\n",
    "call_function(my_function) # Calls the my_function function"
   ]
  },
  {
   "cell_type": "markdown",
   "metadata": {},
   "source": [
    "* Function as Return Values (aka: Returning a Function via another's function return value)"
   ]
  },
  {
   "cell_type": "code",
   "execution_count": 16,
   "metadata": {},
   "outputs": [
    {
     "name": "stdout",
     "output_type": "stream",
     "text": [
      "Hello from print_message inside get_function\n"
     ]
    }
   ],
   "source": [
    "# Function as Return Values\n",
    "\n",
    "def get_function():\n",
    "    def print_message():\n",
    "        print(\"Hello from print_message inside get_function\")\n",
    "    return print_message\n",
    "\n",
    "new_function = get_function()\n",
    "new_function() # Calls the print_message function"
   ]
  },
  {
   "cell_type": "code",
   "execution_count": 17,
   "metadata": {},
   "outputs": [
    {
     "name": "stdout",
     "output_type": "stream",
     "text": [
      "<class 'pandas.core.series.Series'>\n",
      "a    3.0\n",
      "b    3.0\n",
      "dtype: float64\n"
     ]
    }
   ],
   "source": [
    "import pandas as pd\n",
    "import numpy as np\n",
    "\n",
    "# Define function mappings to Pandas' built-in DataFrame methods\n",
    "function_map = {\n",
    "    'mean': lambda df: df.mean(),  # Compute column-wise means\n",
    "    'std': lambda df: df.std(),\n",
    "    'minimum': lambda df: df.min(),\n",
    "    'maximum': lambda df: df.max()\n",
    "}\n",
    "\n",
    "data = {'a': [1, 2, 3, 4, 5], 'b': [5, 4, 3, 2, 1]}\n",
    "df = pd.DataFrame(data)\n",
    "\n",
    "# Suppose the user chooses the 'mean' by typing its name in a prompt\n",
    "user_input = 'mean'  # This should be a string\n",
    "\n",
    "# Call the chosen function and pass \"df\" as an argument\n",
    "result = function_map[user_input](df)\n",
    "\n",
    "print(type(result))\n",
    "print(result)"
   ]
  },
  {
   "cell_type": "markdown",
   "metadata": {},
   "source": [
    "### Scope\n",
    "    \n",
    "* Which variables can be accessed at different points in the code\n",
    "* Variable names inside and outside the function\n",
    "    * local scope first, nonlocal-but-nested next, global next, builtin next (e.g.: print() function)"
   ]
  },
  {
   "cell_type": "code",
   "execution_count": 18,
   "metadata": {},
   "outputs": [
    {
     "name": "stdout",
     "output_type": "stream",
     "text": [
      "99\n",
      "30\n",
      "50\n",
      "30\n"
     ]
    }
   ],
   "source": [
    "# Working with scopes\n",
    "\n",
    "x = 99     # the global scope is set to 99\n",
    "\n",
    "def a():\n",
    "  x = 20   # the local scope is set to 20\n",
    "\n",
    "def b():\n",
    "  global x # the global scope is now bring called\n",
    "  x = 30   # the global scope is set to 30\n",
    "\n",
    "def c():\n",
    "  x = 50  # the local scope is set to 50\n",
    "  print(x) # prints 50\n",
    "\n",
    "for func in [a, b, c]:\n",
    "  func() # calls each function\n",
    "  print(x) # prints the global scope value after each function call"
   ]
  },
  {
   "cell_type": "markdown",
   "metadata": {},
   "source": [
    "* Closure\n",
    "    * It is python's way to attach a nonlocal variable to a returned function even when it is called outside of its parent's scope\n",
    "    * A tuple of variables that are no longer in scope (but a function still needs it to run its code)\n",
    "    * Even if you delete a global variable, the previous value that was stored in the function's closure remains in the tuple that is created behind the scenes"
   ]
  },
  {
   "cell_type": "code",
   "execution_count": 19,
   "metadata": {},
   "outputs": [
    {
     "name": "stdout",
     "output_type": "stream",
     "text": [
      "<class 'function'>\n",
      "<function parent_function.<locals>.child_function at 0x000001DB321393A0>\n",
      "10\n",
      "<class 'tuple'>\n",
      "10\n",
      "1\n"
     ]
    },
    {
     "data": {
      "text/plain": [
       "10"
      ]
     },
     "execution_count": 19,
     "metadata": {},
     "output_type": "execute_result"
    }
   ],
   "source": [
    "# This function gets the value of the global variable \"x\" and prints it via the child function\n",
    "# This is where we understand the concept of closures\n",
    "\n",
    "x = 10 # Global variable\n",
    "\n",
    "def parent_function(value):  \n",
    "    def child_function():\n",
    "        print(value)\n",
    "    return child_function\n",
    "\n",
    "function_as_object = parent_function(x) # Calls the parent_function and assigns the return value to the variable\n",
    "print(type(function_as_object))         # Returns the type of the object\n",
    "print(function_as_object)               # Returns the object itself\n",
    "function_as_object()                    # Calls the parent_function and the child_function inside it and prints the value of the global variable \"x\"\n",
    "\n",
    "print(type(function_as_object.__closure__)) # Returns the type of the closure attribute of the function_as_object\n",
    "\n",
    "del(x) # Deletes the global variable \"x\"\n",
    "function_as_object() # It still prints the value of the global variable \"x\" because the child_function has access to the parent_function scope\n",
    "\n",
    "print(len(function_as_object.__closure__)) # Returns the number of variables in the closure attribute\n",
    "function_as_object.__closure__[0].cell_contents # Returns the value of the variable in the closure attribute"
   ]
  },
  {
   "cell_type": "code",
   "execution_count": 20,
   "metadata": {},
   "outputs": [
    {
     "name": "stdout",
     "output_type": "stream",
     "text": [
      "[3, 4, {'chocolate': 'yummy'}, 22]\n"
     ]
    }
   ],
   "source": [
    "def parent_function(arg_1, arg_2):  \n",
    "  value = 22  \n",
    "  my_dict = {'chocolate': 'yummy'}\n",
    "  def child():\n",
    "      print(2 * value)\n",
    "      print(my_dict['chocolate'])\n",
    "      print(arg_1 + arg_2)\n",
    "  return child\n",
    "    \n",
    "new_function = parent_function(3, 4)\n",
    "\n",
    "print([cell.cell_contents for cell in new_function.__closure__])"
   ]
  },
  {
   "cell_type": "markdown",
   "metadata": {},
   "source": [
    "### Finally: Decorators\n",
    "\n",
    "* Decorators are just functions that take a function as argument and return a modified version of that function.\n",
    "* Therefore, you are \"decorating\" a function\n",
    "    * The code of the \"decorator\" function, comes as a \"nested\" function called \"wrapper\" (this name is used as best practices)\n",
    "\n",
    "Goal: To add common behavior to multiple function instead of having to write again in the body of each new function.\n",
    "\n",
    "It uses all the below:\n",
    "* Function as objects\n",
    "* Nested functions\n",
    "* Nonlocal scope\n",
    "* Closures"
   ]
  },
  {
   "cell_type": "code",
   "execution_count": 21,
   "metadata": {},
   "outputs": [
    {
     "data": {
      "text/plain": [
       "5"
      ]
     },
     "execution_count": 21,
     "metadata": {},
     "output_type": "execute_result"
    }
   ],
   "source": [
    "# One function will decorate the other function\n",
    "# In this case, the decorator will not change the behavior of the multiply function\n",
    "def multiply(a, b):\n",
    "    return a * b\n",
    "\n",
    "def double_args(func):\n",
    "    return func\n",
    "\n",
    "new_multiply = double_args(multiply)\n",
    "\n",
    "new_multiply(1, 5)"
   ]
  },
  {
   "cell_type": "code",
   "execution_count": 22,
   "metadata": {},
   "outputs": [
    {
     "data": {
      "text/plain": [
       "20"
      ]
     },
     "execution_count": 22,
     "metadata": {},
     "output_type": "execute_result"
    }
   ],
   "source": [
    "# One function will decorate the other function\n",
    "# In this case, the decorator will change the behavior of the multiply function\n",
    "def multiply(a, b):\n",
    "    return a * b\n",
    "\n",
    "def double_args(func):  # This is a decorator function to modify the behavior of another function\n",
    "    # Define a new function that we can modify (this is best practices)\n",
    "    def wrapper(a, b):  # All this function does is call the original function with double the arguments\n",
    "        # For now, just call the unmodified function\n",
    "        return func(a * 2, b * 2)\n",
    "    # Return the new function via the decorator\n",
    "    return wrapper\n",
    "\n",
    "new_multiply = double_args(multiply) # we are \"decorating\" the multiply function\n",
    "new_multiply(1, 5) # This will return 20\n"
   ]
  },
  {
   "cell_type": "code",
   "execution_count": 23,
   "metadata": {},
   "outputs": [
    {
     "data": {
      "text/plain": [
       "20"
      ]
     },
     "execution_count": 23,
     "metadata": {},
     "output_type": "execute_result"
    }
   ],
   "source": [
    "# We can do the above in a more concise way using the decorator syntax\n",
    "def double_args(func):\n",
    "    def wrapper(a, b):\n",
    "        return func(a * 2, b * 2)\n",
    "    return wrapper\n",
    "\n",
    "@double_args        # This is the same as saying multiply = double_args(multiply)\n",
    "def multiply(a, b):\n",
    "    return a * b\n",
    "\n",
    "multiply(1, 5) # This will return 20"
   ]
  },
  {
   "cell_type": "markdown",
   "metadata": {},
   "source": [
    "* Note for the example below:\n",
    "    * `*args`\n",
    "        * `*args` allows a function to accept a variable number of positional arguments\n",
    "        * It collects all extra positional arguments passed to the function into a tuple.\n",
    "\n",
    "    * `**kwargs`\n",
    "        * **kwargs allows a function to accept a variable number of keyword arguments.\n",
    "        * It collects all extra keyword arguments (those passed using the key=value syntax) into a dictionary.\n",
    "        * Ex: foo(value=42)   \n",
    "            * This would be a keyword argument. Here, kwargs would be {'value': 42}.\n",
    "    * Creating attributes to a python function"
   ]
  },
  {
   "cell_type": "code",
   "execution_count": 24,
   "metadata": {},
   "outputs": [
    {
     "name": "stdout",
     "output_type": "stream",
     "text": [
      "6\n",
      "100\n",
      "5\n",
      "0\n"
     ]
    }
   ],
   "source": [
    "# Quick example of *args\n",
    "\n",
    "def sum_numbers(*args):\n",
    "    return sum(args)\n",
    "\n",
    "# Calling the function with different numbers of arguments\n",
    "print(sum_numbers(1, 2, 3))          # Output: 6\n",
    "print(sum_numbers(10, 20, 30, 40))   # Output: 100\n",
    "print(sum_numbers(5))                # Output: 5\n",
    "print(sum_numbers())                 # Output: 0"
   ]
  },
  {
   "cell_type": "code",
   "execution_count": 25,
   "metadata": {},
   "outputs": [
    {
     "name": "stdout",
     "output_type": "stream",
     "text": [
      "name: Alice\n",
      "age: 30\n",
      "city: Barcelona\n",
      "product: Laptop\n",
      "price: 1200\n",
      "None\n"
     ]
    }
   ],
   "source": [
    "# Quick example of **kwargs\n",
    "\n",
    "def print_details(**kwargs):\n",
    "    for key, value in kwargs.items():\n",
    "        print(f\"{key}: {value}\")\n",
    "\n",
    "# Calling the function with different keyword arguments\n",
    "print_details(name=\"Alice\", age=30, city=\"Barcelona\")\n",
    "print_details(product=\"Laptop\", price=1200)\n",
    "print(print_details())"
   ]
  },
  {
   "cell_type": "code",
   "execution_count": 26,
   "metadata": {},
   "outputs": [
    {
     "name": "stdout",
     "output_type": "stream",
     "text": [
      "Positional arguments: (42,)\n",
      "Keyword arguments: {}\n",
      "simple_function() returned type <class 'tuple'>\n",
      "((42,), {})\n",
      "Positional arguments: ([1, 2, 3],)\n",
      "Keyword arguments: {}\n",
      "simple_function() returned type <class 'tuple'>\n",
      "(([1, 2, 3],), {})\n",
      "Positional arguments: ({'a': 42},)\n",
      "Keyword arguments: {}\n",
      "simple_function() returned type <class 'tuple'>\n",
      "(({'a': 42},), {})\n",
      "Positional arguments: (42,)\n",
      "Keyword arguments: {'name': 'Alice', 'age': 30}\n",
      "simple_function() returned type <class 'tuple'>\n",
      "((42,), {'name': 'Alice', 'age': 30})\n",
      "Positional arguments: ([1, 2, 3],)\n",
      "Keyword arguments: {'city': 'Barcelona', 'country': 'Spain'}\n",
      "simple_function() returned type <class 'tuple'>\n",
      "(([1, 2, 3],), {'city': 'Barcelona', 'country': 'Spain'})\n",
      "Positional arguments: ({'a': 42}, 100)\n",
      "Keyword arguments: {}\n",
      "simple_function() returned type <class 'tuple'>\n",
      "(({'a': 42}, 100), {})\n"
     ]
    }
   ],
   "source": [
    "def decorator_function_print_return_type(func):\n",
    "  # Define wrapper(), the decorated function\n",
    "  # This function will print the type of the return value of the function being decorated\n",
    "  # Accepts any number of positional (*arg) and keyword arguments (*kwargs) that the function 'func' being decorated can accept\n",
    "  def wrapper(*args, **kwargs): \n",
    "    # Call the function being decorated\n",
    "    result = func(*args, ** kwargs)\n",
    "    print('{}() returned type {}'.format(func.__name__, type(result))) # __name__ is the name of the function being decorated\n",
    "    return result\n",
    "  # Return the decorated function (wrapper) to be used in place of the original function 'func'\n",
    "  return wrapper\n",
    "  \n",
    "@decorator_function_print_return_type # This is the same as saying simple_function = decorator_function_print_return_type(simple_function)\n",
    "def simple_function(*args, **kwargs):\n",
    "  print(\"Positional arguments:\", args)\n",
    "  print(\"Keyword arguments:\", kwargs)\n",
    "  return args, kwargs  # Returning args and kwargs for illustration\n",
    "  \n",
    "print(simple_function(42))        # Output: (42,) {}\n",
    "print(simple_function([1, 2, 3])) # Output: ([1, 2, 3],)\n",
    "print(simple_function({'a': 42})) # Output: ({'a': 42},)\n",
    "\n",
    "print(simple_function(42, name=\"Alice\", age=30))                     # Output: (42,) {'name': 'Alice', 'age': 30}\n",
    "print(simple_function([1, 2, 3], city=\"Barcelona\", country=\"Spain\")) # Output: ([1, 2, 3],) {'city': 'Barcelona', 'country': 'Spain'}\n",
    "print(simple_function({'a': 42}, 100))                               # Output: ({'a': 42},) {100}"
   ]
  },
  {
   "cell_type": "code",
   "execution_count": 27,
   "metadata": {},
   "outputs": [
    {
     "name": "stdout",
     "output_type": "stream",
     "text": [
      "Call 1 of say_hello\n",
      "Hello!\n",
      "Call 2 of say_hello\n",
      "Hello!\n",
      "Call 3 of say_hello\n",
      "Hello!\n",
      "say_hello() was called 3 times.\n"
     ]
    }
   ],
   "source": [
    "# Creating an attribute for the function that counts the number of times it was called\n",
    "\n",
    "def count_calls(func):\n",
    "    def wrapper(*args, **kwargs):\n",
    "        wrapper.count += 1\n",
    "        print(f\"Call {wrapper.count} of {func.__name__}\")\n",
    "        return func(*args, **kwargs)\n",
    "    wrapper.count = 0\n",
    "    return wrapper\n",
    "\n",
    "@count_calls\n",
    "def say_hello():\n",
    "    print(\"Hello!\")\n",
    "\n",
    "say_hello()\n",
    "say_hello()\n",
    "say_hello()\n",
    "\n",
    "print('say_hello() was called {} times.'.format(say_hello.count))\n",
    "\n"
   ]
  },
  {
   "cell_type": "markdown",
   "metadata": {},
   "source": [
    "### Preserving the Metadata of the Function you are Decorating"
   ]
  },
  {
   "cell_type": "code",
   "execution_count": 28,
   "metadata": {},
   "outputs": [
    {
     "name": "stdout",
     "output_type": "stream",
     "text": [
      "This is the docstring of the wrapper function.\n"
     ]
    }
   ],
   "source": [
    "# Example of a Decorator function that DOES NOT preserve the docstring of the original function\n",
    "\n",
    "def decorator_function(func):\n",
    "  def wrapper(*args, **kwargs):\n",
    "    \"\"\"This is the docstring of the wrapper function.\"\"\" # This docstring will replace the original function's docstring\n",
    "    result = func(*args, **kwargs)  # Call the original function\n",
    "    print(\"This is the decorated function.\")\n",
    "    return result\n",
    "  return wrapper\n",
    "\n",
    "@decorator_function\n",
    "def original_function():\n",
    "    \"\"\"This is a docstring from the original function.\"\"\"\n",
    "    return 42\n",
    "\n",
    "print(original_function.__doc__)  # Output: This is the docstring of the wrapper function."
   ]
  },
  {
   "cell_type": "code",
   "execution_count": 29,
   "metadata": {},
   "outputs": [
    {
     "name": "stdout",
     "output_type": "stream",
     "text": [
      "This is a docstring from the original function.\n"
     ]
    }
   ],
   "source": [
    "# Decorator function that preserves the docstring of the original function\n",
    "\n",
    "from functools import wraps\n",
    "\n",
    "def decorator_function(func):\n",
    "  # Decorate wrapper() so that it keeps func()'s metadata\n",
    "  @wraps(func) # ensures that wrapper keeps the original function’s metadata (e.g., __name__, __doc__)\n",
    "  def wrapper(*args, **kwargs):\n",
    "    \"\"\"This is the docstring of the wrapper function.\"\"\" # This is a new docstring that will be overwritten by the @wraps decorator\n",
    "    result = func(*args, **kwargs)  # Call the original function\n",
    "    print(\"This is the decorated function.\")\n",
    "    return result\n",
    "  return wrapper\n",
    "\n",
    "@decorator_function\n",
    "def original_function():\n",
    "    \"\"\"This is a docstring from the original function.\"\"\"\n",
    "    return 42\n",
    "\n",
    "print(original_function.__doc__)  # Output: This is the docstring of the wrapper function."
   ]
  },
  {
   "cell_type": "code",
   "execution_count": 30,
   "metadata": {},
   "outputs": [
    {
     "name": "stdout",
     "output_type": "stream",
     "text": [
      "Hello\n",
      "30\n",
      "This is a docstring from the original function.\n"
     ]
    }
   ],
   "source": [
    "# Decorator function that preserves result of the original function\n",
    "\n",
    "from functools import wraps\n",
    "\n",
    "def add_hello(func):\n",
    "  # Decorate wrapper() so that it keeps func()'s metadata\n",
    "  @wraps(func) # ensures that wrapper keeps the original function’s metadata (e.g., __name__, __doc__)\n",
    "  def wrapper(*args, **kwargs):\n",
    "    print('Hello')\n",
    "    return func(*args, **kwargs)\n",
    "  return wrapper\n",
    "  \n",
    "@add_hello\n",
    "def print_sum(a, b):\n",
    "  \"\"\"This is a docstring from the original function.\"\"\"\n",
    "  print(a + b)\n",
    "  \n",
    "# print_sum(10, 20)   # Output: If you do not use @wraps, it will print 'Hello' and then the sum of the numbers.\n",
    "print_sum(10, 20)   # Output: If you use @wraps, it will print only the sum of the numbers.\n",
    "\n",
    "print(print_sum.__doc__)  # Output: This is a docstring from the original function."
   ]
  },
  {
   "cell_type": "markdown",
   "metadata": {},
   "source": [
    "* Note:\n",
    "    * `__wrapped__`\n",
    "        * you need to use `functools.wraps` to explicitly set it\n",
    "        * The `__wrapped__` attribute is used when a function has been wrapped by a decorator. \n",
    "        * **It gives you access to the original, undecorated function!**\n",
    "        * When you decorate a function, Python replaces it with a new function (the wrapper). But sometimes, you may want to access the original function for debugging, testing, or introspection."
   ]
  },
  {
   "cell_type": "code",
   "execution_count": 31,
   "metadata": {},
   "outputs": [
    {
     "name": "stdout",
     "output_type": "stream",
     "text": [
      "Hello\n",
      "This is the sum of a and b:\n",
      "This is a docstring from the original function.\n",
      "print_sum\n",
      "<function print_sum at 0x000001DB3213A3E0>\n",
      "This is the sum of a and b:\n",
      "30\n"
     ]
    }
   ],
   "source": [
    "# Accessing the original function from a decorated function\n",
    "\n",
    "from functools import wraps\n",
    "\n",
    "def add_hello(func):\n",
    "  # Decorate wrapper() so that it keeps func()'s metadata\n",
    "  @wraps(func) # ensures that wrapper keeps the original function’s metadata (e.g., __name__, __doc__)\n",
    "  def wrapper(*args, **kwargs):\n",
    "    print('Hello')\n",
    "    return func(*args, **kwargs)\n",
    "  return wrapper\n",
    "  \n",
    "@add_hello\n",
    "def print_sum(a, b):\n",
    "  \"\"\"This is a docstring from the original function.\"\"\"\n",
    "  print(\"This is the sum of a and b:\")\n",
    "  return(a + b)\n",
    "  \n",
    "# print_sum(10, 20)   # Output: If you do not use @wraps, it will print 'Hello' and then the sum of the numbers.\n",
    "print_sum(10, 20)   # Output: If you use @wraps, it will print only the sum of the numbers.\n",
    "\n",
    "print(print_sum.__doc__)  # Output: This is a docstring from the original function.\n",
    "\n",
    "print(print_sum.__name__)       # Outputs: print_sum (not wrapper)\n",
    "print(print_sum.__wrapped__)    # Outputs: <function print_sum at 0x...>\n",
    "print(print_sum.__wrapped__(10, 20))  # Outputs: 30\n",
    "\n"
   ]
  },
  {
   "cell_type": "markdown",
   "metadata": {},
   "source": [
    "### Using Decorators to check the time it takes to run generic functions"
   ]
  },
  {
   "cell_type": "code",
   "execution_count": 32,
   "metadata": {},
   "outputs": [
    {
     "name": "stdout",
     "output_type": "stream",
     "text": [
      "Finished slow function\n",
      "Function 'slow_function' took 2.00069 seconds to run\n",
      "Function 'add_numbers' took 1.00114 seconds to run\n",
      "15\n"
     ]
    }
   ],
   "source": [
    "import time\n",
    "from functools import wraps\n",
    "\n",
    "def timing_decorator(func):\n",
    "    @wraps(func)  # ensures that wrapper keeps the original function’s metadata (e.g., __name__, __doc__)\n",
    "    def wrapper(*args, **kwargs):\n",
    "        start_time = time.time()  # Start timer\n",
    "        result = func(*args, **kwargs)  # Call the original function\n",
    "        end_time = time.time()  # End timer\n",
    "        print(f\"Function '{func.__name__}' took {end_time - start_time:.5f} seconds to run\")\n",
    "        return result  # Ensure function's original return value is preserved\n",
    "    return wrapper\n",
    "\n",
    "@timing_decorator\n",
    "def slow_function():\n",
    "    time.sleep(2)  # Simulating a slow process\n",
    "    print(\"Finished slow function\")\n",
    "\n",
    "@timing_decorator\n",
    "def add_numbers(a, b):\n",
    "    time.sleep(1)  # Simulating delay\n",
    "    return a + b\n",
    "\n",
    "# Run decorated functions\n",
    "slow_function()\n",
    "print(add_numbers(5, 10))"
   ]
  },
  {
   "cell_type": "markdown",
   "metadata": {},
   "source": [
    "### Creating Decorators (Generalizing a Decorator to take arguments)"
   ]
  },
  {
   "cell_type": "code",
   "execution_count": 33,
   "metadata": {},
   "outputs": [
    {
     "name": "stdout",
     "output_type": "stream",
     "text": [
      "8\n",
      "8\n",
      "8\n"
     ]
    }
   ],
   "source": [
    "# Decorator function that takes an argument\n",
    "\n",
    "def run_n_times(n):\n",
    "    def decorator_function(func):\n",
    "        def wrapper(*args, **kwargs):\n",
    "            for _ in range(n):\n",
    "                result = func(*args, **kwargs)\n",
    "            return result\n",
    "        return wrapper\n",
    "    return decorator_function\n",
    "\n",
    "@run_n_times(3)\n",
    "def print_sum(a, b):\n",
    "    print(a + b)\n",
    "\n",
    "print_sum(3, 5) # Outputs: 8, 8, 8"
   ]
  },
  {
   "cell_type": "code",
   "execution_count": 34,
   "metadata": {},
   "outputs": [
    {
     "name": "stdout",
     "output_type": "stream",
     "text": [
      "8\n",
      "8\n",
      "8\n"
     ]
    }
   ],
   "source": [
    "# Now, let's create a decorator that takes an argument\n",
    "\n",
    "def run_n_times(n):\n",
    "    def decorator_function(func):\n",
    "        def wrapper(*args, **kwargs):\n",
    "            for _ in range(n):\n",
    "                result = func(*args, **kwargs)\n",
    "            return result\n",
    "        return wrapper\n",
    "    return decorator_function\n",
    "\n",
    "run_3_times = run_n_times(3)\n",
    "\n",
    "@run_3_times\n",
    "def print_sum(a, b):\n",
    "    print(a + b)\n",
    "\n",
    "print_sum(3, 5) # Outputs: 8, 8, 8"
   ]
  },
  {
   "cell_type": "markdown",
   "metadata": {},
   "source": [
    "### Using Decorators to Tag Functions\n",
    "\n",
    "* This code creates a custom decorator called @tag that adds metadata (tags) to a function.\n",
    "* When applied, it allows functions to store custom tags that can be accessed later."
   ]
  },
  {
   "cell_type": "code",
   "execution_count": 35,
   "metadata": {},
   "outputs": [
    {
     "name": "stdout",
     "output_type": "stream",
     "text": [
      "('test', 'this is a tag')\n"
     ]
    }
   ],
   "source": [
    "def tag(*tags): # This is not the actual decorator yet, it is a function that returns a decorator\n",
    "  def decorator(func): # This is the real decorator that wraps around the function we decorate\n",
    "    # Ensure the decorated function keeps its metadata\n",
    "    @wraps(func) # ensures that wrapper keeps the original function’s metadata (e.g., __name__, __doc__)\n",
    "    def wrapper(*args, **kwargs): # The wrapper function calls the original function (func) and returns its result\n",
    "      return func(*args, **kwargs)\n",
    "    wrapper.tags = tags # here, we add a custom attribute (tags) to the wrapped function (tags stores the arguments passed when calling @tag(...))\n",
    "    return wrapper      # Return the decorated function\n",
    "  return decorator\n",
    "\n",
    "@tag('test', 'this is a tag') # The decorator function is applied to foo(), making it the wrapped function\n",
    "def simple_function():\n",
    "  pass\n",
    "\n",
    "print(simple_function.tags)"
   ]
  },
  {
   "cell_type": "markdown",
   "metadata": {},
   "source": [
    "### Using Decorators to Check for Data Types returned by Functions\n",
    "\n",
    "* This code defines a decorator (@returns_dict) that ensures a function always returns a dictionary (dict). \n",
    "* If the function does not return a dictionary, an assertion error is raised\n",
    "* Useful for ensuring consistent return types in APIs, data pipelines, and more."
   ]
  },
  {
   "cell_type": "code",
   "execution_count": 36,
   "metadata": {},
   "outputs": [
    {
     "name": "stdout",
     "output_type": "stream",
     "text": [
      "simple_function() did not return a dict!\n"
     ]
    }
   ],
   "source": [
    "# Checking if a function returns a dictionary\n",
    "\n",
    "def returns_dict(func):  # This is the decorator\n",
    "  def wrapper(value):    # The wrapper function calls the original function (func) and returns its result\n",
    "    result = func(value)\n",
    "    assert type(result) == dict # Ensure the return type is a dictionary\n",
    "    return result               # Return the result if it's a dict\n",
    "  return wrapper  # Return the decorated function\n",
    "  \n",
    "@returns_dict  # this decorator modifies simple_function, enforcing that it must return a dictionary\n",
    "def simple_function(value):\n",
    "  return value\n",
    "\n",
    "try:\n",
    "  print(simple_function([1,2,3]))\n",
    "except AssertionError:\n",
    "  print('simple_function() did not return a dict!')\n",
    "  "
   ]
  },
  {
   "cell_type": "code",
   "execution_count": 38,
   "metadata": {},
   "outputs": [
    {
     "name": "stdout",
     "output_type": "stream",
     "text": [
      "[1, 2, 3]\n"
     ]
    }
   ],
   "source": [
    "# Expading the Decorator to take a type and check if the function returns this type\n",
    "\n",
    "def returns(return_type): # This is not the actual decorator yet, it is a function that returns a decorator\n",
    "  def decorator(func):    # This is the real decorator that wraps around the function we decorate\n",
    "    def wrapper(value):   # The wrapper function calls the original function (func) and returns its result\n",
    "      result = func(value)\n",
    "      assert type(result) == return_type # Ensure the return type is a dictionary\n",
    "      return result                      # Return the result if it's a dict\n",
    "    return wrapper  # Return the decorated function\n",
    "  return decorator\n",
    "  \n",
    "@returns(list)  # this decorator modifies simple_function, enforcing that it must return a dictionary\n",
    "def simple_function(value):\n",
    "  return value\n",
    "\n",
    "try:\n",
    "  print(simple_function([1,2,3]))\n",
    "except AssertionError:\n",
    "  print('simple_function() did not return a dict!')\n",
    "  "
   ]
  }
 ],
 "metadata": {
  "kernelspec": {
   "display_name": ".venv",
   "language": "python",
   "name": "python3"
  },
  "language_info": {
   "codemirror_mode": {
    "name": "ipython",
    "version": 3
   },
   "file_extension": ".py",
   "mimetype": "text/x-python",
   "name": "python",
   "nbconvert_exporter": "python",
   "pygments_lexer": "ipython3",
   "version": "3.12.1"
  }
 },
 "nbformat": 4,
 "nbformat_minor": 2
}
