{
 "cells": [
  {
   "cell_type": "markdown",
   "metadata": {},
   "source": [
    "# Writing Functions in Python"
   ]
  },
  {
   "cell_type": "markdown",
   "metadata": {},
   "source": [
    "## Learning points:\n",
    "\n",
    "* Documentation\n",
    "    * Docstrings\n",
    "* Principles \n",
    "    * DRY (Don't Repeat Yourself)\n",
    "    * Do One Thing\n",
    "    * Pass by Assignment\n",
    "        * Example: Lists (Mutable) vs Integers (Immutable)\n",
    "        * Example: Mutable Default Argument Newbie Mistake\n",
    "* Context Manager"
   ]
  },
  {
   "cell_type": "markdown",
   "metadata": {},
   "source": [
    "## Documentation (Docstring)\n",
    "\n",
    "```\n",
    "def function_name(arguments):\n",
    "    \"\"\"\n",
    "    Description of what the function does.\n",
    "    Description of the arguments, if any.\n",
    "    Description of the return value(s), if any.\n",
    "    Description of errors raised, if any.\n",
    "    Optional extra notes or examples of usage.\n",
    "    \"\"\"\n",
    "```"
   ]
  },
  {
   "cell_type": "code",
   "execution_count": 3,
   "metadata": {},
   "outputs": [
    {
     "name": "stdout",
     "output_type": "stream",
     "text": [
      "\n",
      "    Description of what the function does.\n",
      "\n",
      "    Args:    \n",
      "        arg_1 (str): Description of arg_1 that can break onto the next line\n",
      "        if needed.\n",
      "        arg_2 (int, optional): Write optional when an argument has a default\n",
      "        value.  \n",
      "\n",
      "    Returns:    \n",
      "        int: Optional description of the return value\n",
      "        Extra lines are not indented.\n",
      "\n",
      "    Raises:\n",
      "        ValueError: Include any error types that the function intentionally\n",
      "        raises.\n",
      "        \n",
      "    Notes:\n",
      "        See XYZ document for more info.\n",
      "    \n"
     ]
    }
   ],
   "source": [
    "def my_function(arg_1, arg_2=10):\n",
    "    \"\"\"\n",
    "    Description of what the function does.\n",
    "\n",
    "    Args:    \n",
    "        arg_1 (str): Description of arg_1 that can break onto the next line\n",
    "        if needed.\n",
    "        arg_2 (int, optional): Write optional when an argument has a default\n",
    "        value.  \n",
    "\n",
    "    Returns:    \n",
    "        int: Optional description of the return value\n",
    "        Extra lines are not indented.\n",
    "\n",
    "    Raises:\n",
    "        ValueError: Include any error types that the function intentionally\n",
    "        raises.\n",
    "        \n",
    "    Notes:\n",
    "        See XYZ document for more info.\n",
    "    \"\"\"\n",
    "\n",
    "# To access the docstring, use the __doc__ attribute of the function\n",
    "print(my_function.__doc__)\n",
    "\n"
   ]
  },
  {
   "cell_type": "code",
   "execution_count": 4,
   "metadata": {},
   "outputs": [
    {
     "name": "stdout",
     "output_type": "stream",
     "text": [
      "Description of what the function does.\n",
      "\n",
      "Args:    \n",
      "    arg_1 (str): Description of arg_1 that can break onto the next line\n",
      "    if needed.\n",
      "    arg_2 (int, optional): Write optional when an argument has a default\n",
      "    value.  \n",
      "\n",
      "Returns:    \n",
      "    int: Optional description of the return value\n",
      "    Extra lines are not indented.\n",
      "\n",
      "Raises:\n",
      "    ValueError: Include any error types that the function intentionally\n",
      "    raises.\n",
      "    \n",
      "Notes:\n",
      "    See XYZ document for more info.\n"
     ]
    }
   ],
   "source": [
    "# We can also use the inspect module to get the docstring\n",
    "import inspect\n",
    "print(inspect.getdoc(my_function))"
   ]
  },
  {
   "cell_type": "markdown",
   "metadata": {},
   "source": [
    "## Principles"
   ]
  },
  {
   "cell_type": "markdown",
   "metadata": {},
   "source": [
    "### Pass by Assignment and The \"Mutable Default Argument\" Newbie Mistake\n",
    "\n",
    "In Python, everything is an `object`, and variables are just references (`pointers`) to these objects.\n",
    "\n",
    "When you pass a variable to a function, Python assigns the reference to the parameter — this is called `Pass by Assignment`.\n",
    "\n",
    "* Difference Between `Objects` and `Variables` in Python\n",
    "    * `Objects`   → The actual **data stored in memory**.\n",
    "        * Each object has a memory address (location)\n",
    "        * Objects are created when assigned or instantiated (x = 10, my_list = [])\n",
    "    * `Variables` → References (**pointers**) to objects in memory.\n",
    "        * A variable is just a name that points to an object in memory.\n",
    "        * **Variables don’t store the object** itself, **they store a reference** (memory address) to the object\n",
    "\n",
    "It is easier to understand if we focus on `Immutable vs. Mutable` objects."
   ]
  },
  {
   "cell_type": "markdown",
   "metadata": {},
   "source": [
    "#### Example 1: Immutable Object (No Change Outside the Function)\n",
    "\n",
    "* `int` is immutable, so `x = x + 1` creates a new object, leaving `num` unchanged"
   ]
  },
  {
   "cell_type": "code",
   "execution_count": 2,
   "metadata": {},
   "outputs": [
    {
     "name": "stdout",
     "output_type": "stream",
     "text": [
      "Inside function: 11\n",
      "Outside function: 10\n"
     ]
    }
   ],
   "source": [
    "def modify_number(x):\n",
    "    x = x + 1  # Creates a NEW object\n",
    "    print(\"Inside function:\", x)\n",
    "\n",
    "num = 10\n",
    "modify_number(num)\n",
    "print(\"Outside function:\", num)  # Still 10 (unchanged)"
   ]
  },
  {
   "cell_type": "markdown",
   "metadata": {},
   "source": [
    "Here, what happened is the following:\n",
    "* `num = 10`\n",
    "    * `num` points to an `integer` object `10` in memory, let's say memory address in this case is `A100`\n",
    "* `modify_number(num)`\n",
    "    * The function receives **a copy** of the reference (**not the value**)\n",
    "    * `x` is created inside the function and x also points to `10` at `A100`\n",
    "* So far, both `num` and `x` point to `10` at `A100`\n",
    "* `x = x + 1`\n",
    "    * now, a new object is created. It is a new integer `11` at a different memory address (`A200`)\n",
    "* So far, `x` now points to `11` (`A200`), but `num` still points to `10` (`A100`)\n",
    "* After function execution is done:\n",
    "    * x (inside the function) disappears\n",
    "    * `num` is unchanged, still pointing to `10` (`A100`)\n",
    "\n",
    "Flow:\n",
    "```\n",
    "num --> [10] (A100)   # object 10 is created and num points to it at memory A100\n",
    "x   --> [10] (A100)   # x is created inside the function and initially points to the same integer 10 at A100\n",
    "x   --> [11] (A200)   # New integer 11 is created at a new location A200, x now points to it\n",
    "num --> [10] (A100)   # num is unchanged, still pointing to A100\n",
    "x   (deleted)         # x goes out of scope (no longer exists)\n",
    "```"
   ]
  },
  {
   "cell_type": "markdown",
   "metadata": {},
   "source": [
    "#### Example 2: Mutable Object  (Changes Affect the Original)\n",
    "\n",
    "* `list` is mutable, so changes inside the function affect the original object"
   ]
  },
  {
   "cell_type": "code",
   "execution_count": 3,
   "metadata": {},
   "outputs": [
    {
     "name": "stdout",
     "output_type": "stream",
     "text": [
      "Inside function: [1, 2, 3, 4]\n",
      "Outside function: [1, 2, 3, 4]\n"
     ]
    }
   ],
   "source": [
    "def modify_list(lst):\n",
    "    lst.append(4)  # Modifies the existing object\n",
    "    print(\"Inside function:\", lst)\n",
    "\n",
    "my_list = [1, 2, 3]\n",
    "modify_list(my_list)\n",
    "print(\"Outside function:\", my_list)  # Now [1, 2, 3, 4] (changed!)"
   ]
  },
  {
   "cell_type": "markdown",
   "metadata": {},
   "source": [
    "Here, what happened is the following:\n",
    "* `my_list = [1, 2, 3]`\n",
    "    * Python creates a `list` object `[1, 2, 3]` in memory at `A300`\n",
    "* `modify_list(my_list)`\n",
    "    * The function receives the `reference` to the same list (`A300`)\n",
    "    * `lst` and `my_list` both point to the same memory address (`A300`)\n",
    "* So far, both `lst` and `my_list` point to `[1, 2, 3]` at `A300`\n",
    "* `lst.append(4)`\n",
    "    * now, a new object is **NOT** created. Modifies the existing list at `A300`\n",
    "* So far, both `lst` and `my_list` **STILL** point to `A300` but now the list is `[1, 2, 3, 4]` \n",
    "* After function execution is done:\n",
    "    * lst **DOES NOT** disappear\n",
    "    * `my_list` still points to `A300`, but now it contains `[1, 2, 3, 4]`\n",
    "\n",
    "Flow:\n",
    "```\n",
    "my_list              --> [1, 2, 3]    (A300)  # List [1,2,3] is created at A300 and my_list points to it\n",
    "modify_list(my_list) --> [1, 2, 3]    (A300)  # Function receives reference A300 to list [1, 2, 3] from the argument mylist\n",
    "mylist=lst           --> [1, 2, 3]    (A300)  # lst is created and points to the same object (mylist) A300\n",
    "lst.append(4)        --> [1, 2, 3, 4] (A300)  # The mutable object is modified and lst still points to A300\n",
    "my_list              --> [1, 2, 3, 4] (A300)  # mylist still points to A300, which was modified via lst, so mylist was modified\n",
    "```"
   ]
  },
  {
   "cell_type": "markdown",
   "metadata": {},
   "source": [
    "#### Example - The Mutable Default Argument Newbie Mistake - Mutable Object as Argument\n",
    "\n",
    "* If you want a Mutable object as a default argument, you need to Default it to None and initiate it inside the function."
   ]
  },
  {
   "cell_type": "code",
   "execution_count": 12,
   "metadata": {},
   "outputs": [
    {
     "name": "stdout",
     "output_type": "stream",
     "text": [
      "[1]\n",
      "[1, 1]\n",
      "[1]\n",
      "[1]\n"
     ]
    }
   ],
   "source": [
    "def mistake(var=[]):  \n",
    "    var.append(1)\n",
    "    return var\n",
    "\n",
    "# Call the function\n",
    "print(mistake())\n",
    "# Call it again\n",
    "print(mistake())\n",
    "\n",
    "# The default value is shared between calls\n",
    "def no_mistake(var=None):\n",
    "    if var is None:\n",
    "        var = []  \n",
    "    var.append(1)\n",
    "    return var\n",
    "\n",
    "print(no_mistake())\n",
    "print(no_mistake())\n"
   ]
  },
  {
   "cell_type": "code",
   "execution_count": 15,
   "metadata": {},
   "outputs": [
    {
     "data": {
      "text/html": [
       "<div>\n",
       "<style scoped>\n",
       "    .dataframe tbody tr th:only-of-type {\n",
       "        vertical-align: middle;\n",
       "    }\n",
       "\n",
       "    .dataframe tbody tr th {\n",
       "        vertical-align: top;\n",
       "    }\n",
       "\n",
       "    .dataframe thead th {\n",
       "        text-align: right;\n",
       "    }\n",
       "</style>\n",
       "<table border=\"1\" class=\"dataframe\">\n",
       "  <thead>\n",
       "    <tr style=\"text-align: right;\">\n",
       "      <th></th>\n",
       "      <th>col_0</th>\n",
       "    </tr>\n",
       "  </thead>\n",
       "  <tbody>\n",
       "    <tr>\n",
       "      <th>0</th>\n",
       "      <td>1</td>\n",
       "    </tr>\n",
       "    <tr>\n",
       "      <th>1</th>\n",
       "      <td>2</td>\n",
       "    </tr>\n",
       "    <tr>\n",
       "      <th>2</th>\n",
       "      <td>3</td>\n",
       "    </tr>\n",
       "    <tr>\n",
       "      <th>3</th>\n",
       "      <td>4</td>\n",
       "    </tr>\n",
       "    <tr>\n",
       "      <th>4</th>\n",
       "      <td>5</td>\n",
       "    </tr>\n",
       "  </tbody>\n",
       "</table>\n",
       "</div>"
      ],
      "text/plain": [
       "   col_0\n",
       "0      1\n",
       "1      2\n",
       "2      3\n",
       "3      4\n",
       "4      5"
      ]
     },
     "execution_count": 15,
     "metadata": {},
     "output_type": "execute_result"
    }
   ],
   "source": [
    "# Example: Function that takes a mutable object (list of values) and adds it to dataframe as a new column\n",
    "\n",
    "import pandas as pd\n",
    "data = [1, 2, 3, 4, 5]\n",
    "\n",
    "def add_column(values, df: None):\n",
    "    if df is None:\n",
    "        df = pd.DataFrame()\n",
    "    df['col_{}'.format(len(df.columns))] = values\n",
    "    return df\n",
    "\n",
    "add_column(data, df=None)"
   ]
  }
 ],
 "metadata": {
  "kernelspec": {
   "display_name": ".venv",
   "language": "python",
   "name": "python3"
  },
  "language_info": {
   "codemirror_mode": {
    "name": "ipython",
    "version": 3
   },
   "file_extension": ".py",
   "mimetype": "text/x-python",
   "name": "python",
   "nbconvert_exporter": "python",
   "pygments_lexer": "ipython3",
   "version": "3.12.1"
  }
 },
 "nbformat": 4,
 "nbformat_minor": 2
}
